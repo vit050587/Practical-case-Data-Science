{
  "nbformat": 4,
  "nbformat_minor": 0,
  "metadata": {
    "colab": {
      "name": "Практический Data Science.ipynb",
      "provenance": [],
      "collapsed_sections": [],
      "toc_visible": true,
      "include_colab_link": true
    },
    "kernelspec": {
      "display_name": "Python 3",
      "language": "python",
      "name": "python3"
    },
    "language_info": {
      "codemirror_mode": {
        "name": "ipython",
        "version": 3
      },
      "file_extension": ".py",
      "mimetype": "text/x-python",
      "name": "python",
      "nbconvert_exporter": "python",
      "pygments_lexer": "ipython3",
      "version": "3.7.6"
    },
    "toc": {
      "base_numbering": 1,
      "nav_menu": {},
      "number_sections": true,
      "sideBar": true,
      "skip_h1_title": false,
      "title_cell": "Table of Contents",
      "title_sidebar": "Contents",
      "toc_cell": false,
      "toc_position": {},
      "toc_section_display": true,
      "toc_window_display": false
    },
    "varInspector": {
      "cols": {
        "lenName": 16,
        "lenType": 16,
        "lenVar": 40
      },
      "kernels_config": {
        "python": {
          "delete_cmd_postfix": "",
          "delete_cmd_prefix": "del ",
          "library": "var_list.py",
          "varRefreshCmd": "print(var_dic_list())"
        },
        "r": {
          "delete_cmd_postfix": ") ",
          "delete_cmd_prefix": "rm(",
          "library": "var_list.r",
          "varRefreshCmd": "cat(var_dic_list()) "
        }
      },
      "types_to_exclude": [
        "module",
        "function",
        "builtin_function_or_method",
        "instance",
        "_Feature"
      ],
      "window_display": false
    }
  },
  "cells": [
    {
      "cell_type": "markdown",
      "metadata": {
        "id": "view-in-github",
        "colab_type": "text"
      },
      "source": [
        "<a href=\"https://colab.research.google.com/github/vit050587/Practical-case-Data-Science/blob/master/%D0%9F%D1%80%D0%B0%D0%BA%D1%82%D0%B8%D1%87%D0%B5%D1%81%D0%BA%D0%B8%D0%B9_Data_Science.ipynb\" target=\"_parent\"><img src=\"https://colab.research.google.com/assets/colab-badge.svg\" alt=\"Open In Colab\"/></a>"
      ]
    },
    {
      "cell_type": "markdown",
      "metadata": {
        "id": "eNXoDi4-iYxz"
      },
      "source": [
        "# Импорт библиотек"
      ]
    },
    {
      "cell_type": "code",
      "metadata": {
        "colab": {
          "base_uri": "https://localhost:8080/"
        },
        "collapsed": true,
        "id": "Ylb2IuXB6qWa",
        "outputId": "2d110d2d-08f1-4bdc-a64c-c21413649c5a"
      },
      "source": [
        "!pip install folium==0.12.1"
      ],
      "execution_count": null,
      "outputs": [
        {
          "output_type": "stream",
          "text": [
            "Requirement already satisfied: folium==0.12.1 in /usr/local/lib/python3.7/dist-packages (0.12.1)\n",
            "Requirement already satisfied: requests in /usr/local/lib/python3.7/dist-packages (from folium==0.12.1) (2.23.0)\n",
            "Requirement already satisfied: numpy in /usr/local/lib/python3.7/dist-packages (from folium==0.12.1) (1.19.5)\n",
            "Requirement already satisfied: jinja2>=2.9 in /usr/local/lib/python3.7/dist-packages (from folium==0.12.1) (2.11.3)\n",
            "Requirement already satisfied: branca>=0.3.0 in /usr/local/lib/python3.7/dist-packages (from folium==0.12.1) (0.4.2)\n",
            "Requirement already satisfied: MarkupSafe>=0.23 in /usr/local/lib/python3.7/dist-packages (from jinja2>=2.9->folium==0.12.1) (2.0.1)\n",
            "Requirement already satisfied: urllib3!=1.25.0,!=1.25.1,<1.26,>=1.21.1 in /usr/local/lib/python3.7/dist-packages (from requests->folium==0.12.1) (1.24.3)\n",
            "Requirement already satisfied: idna<3,>=2.5 in /usr/local/lib/python3.7/dist-packages (from requests->folium==0.12.1) (2.10)\n",
            "Requirement already satisfied: certifi>=2017.4.17 in /usr/local/lib/python3.7/dist-packages (from requests->folium==0.12.1) (2021.5.30)\n",
            "Requirement already satisfied: chardet<4,>=3.0.2 in /usr/local/lib/python3.7/dist-packages (from requests->folium==0.12.1) (3.0.4)\n"
          ],
          "name": "stdout"
        }
      ]
    },
    {
      "cell_type": "code",
      "metadata": {
        "id": "4DJuuGiiiYx4"
      },
      "source": [
        "import pandas as pd\n",
        "import numpy as np\n",
        "import folium\n",
        "from sklearn import linear_model"
      ],
      "execution_count": null,
      "outputs": []
    },
    {
      "cell_type": "markdown",
      "metadata": {
        "id": "wVRjjT7nib0r"
      },
      "source": [
        "<img src='https://drive.google.com/uc?export=view&id=1q1pSMnZVVhVeE9l2zGckBCF33BS2vKBd'>"
      ]
    },
    {
      "cell_type": "markdown",
      "metadata": {
        "id": "DuVEp1J1iYx7"
      },
      "source": [
        "# Загрузка данных"
      ]
    },
    {
      "cell_type": "code",
      "metadata": {
        "colab": {
          "base_uri": "https://localhost:8080/"
        },
        "id": "Vhl5CZHkirIh",
        "outputId": "2025a67a-4eab-46fb-c4b8-d52430cc21fc"
      },
      "source": [
        "!wget 'https://drive.google.com/uc?export=dowload&id=1oRtvvrVUoep5nnSexngfNFEB4cin5Rsa' -O final.csv"
      ],
      "execution_count": null,
      "outputs": [
        {
          "output_type": "stream",
          "text": [
            "--2021-08-24 19:49:23--  https://drive.google.com/uc?export=dowload&id=1oRtvvrVUoep5nnSexngfNFEB4cin5Rsa\n",
            "Resolving drive.google.com (drive.google.com)... 74.125.204.113, 74.125.204.102, 74.125.204.139, ...\n",
            "Connecting to drive.google.com (drive.google.com)|74.125.204.113|:443... connected.\n",
            "HTTP request sent, awaiting response... 302 Moved Temporarily\n",
            "Location: https://doc-0s-c0-docs.googleusercontent.com/docs/securesc/ha0ro937gcuc7l7deffksulhg5h7mbp1/n586r3jgcc98u5iqch9rt58a9qirteod/1629834525000/14904333240138417226/*/1oRtvvrVUoep5nnSexngfNFEB4cin5Rsa?e=dowload [following]\n",
            "Warning: wildcards not supported in HTTP.\n",
            "--2021-08-24 19:49:25--  https://doc-0s-c0-docs.googleusercontent.com/docs/securesc/ha0ro937gcuc7l7deffksulhg5h7mbp1/n586r3jgcc98u5iqch9rt58a9qirteod/1629834525000/14904333240138417226/*/1oRtvvrVUoep5nnSexngfNFEB4cin5Rsa?e=dowload\n",
            "Resolving doc-0s-c0-docs.googleusercontent.com (doc-0s-c0-docs.googleusercontent.com)... 74.125.203.132, 2404:6800:4008:c03::84\n",
            "Connecting to doc-0s-c0-docs.googleusercontent.com (doc-0s-c0-docs.googleusercontent.com)|74.125.203.132|:443... connected.\n",
            "HTTP request sent, awaiting response... 200 OK\n",
            "Length: unspecified [text/csv]\n",
            "Saving to: ‘final.csv’\n",
            "\n",
            "final.csv               [   <=>              ]  63.51M   105MB/s    in 0.6s    \n",
            "\n",
            "2021-08-24 19:49:26 (105 MB/s) - ‘final.csv’ saved [66590855]\n",
            "\n"
          ],
          "name": "stdout"
        }
      ]
    },
    {
      "cell_type": "code",
      "metadata": {
        "id": "eQCXr9EXiYx8"
      },
      "source": [
        "df = pd.read_csv('/content/final.csv')"
      ],
      "execution_count": null,
      "outputs": []
    },
    {
      "cell_type": "code",
      "metadata": {
        "colab": {
          "base_uri": "https://localhost:8080/",
          "height": 424
        },
        "id": "cREpCTKBiYx8",
        "outputId": "a4d1228d-b525-4f83-9ce1-ae7c540a3546"
      },
      "source": [
        "df"
      ],
      "execution_count": null,
      "outputs": [
        {
          "output_type": "execute_result",
          "data": {
            "text/html": [
              "<div>\n",
              "<style scoped>\n",
              "    .dataframe tbody tr th:only-of-type {\n",
              "        vertical-align: middle;\n",
              "    }\n",
              "\n",
              "    .dataframe tbody tr th {\n",
              "        vertical-align: top;\n",
              "    }\n",
              "\n",
              "    .dataframe thead th {\n",
              "        text-align: right;\n",
              "    }\n",
              "</style>\n",
              "<table border=\"1\" class=\"dataframe\">\n",
              "  <thead>\n",
              "    <tr style=\"text-align: right;\">\n",
              "      <th></th>\n",
              "      <th>store</th>\n",
              "      <th>dayofweek</th>\n",
              "      <th>date</th>\n",
              "      <th>sales</th>\n",
              "      <th>customers</th>\n",
              "      <th>open</th>\n",
              "      <th>promo</th>\n",
              "      <th>lat</th>\n",
              "      <th>lon</th>\n",
              "    </tr>\n",
              "  </thead>\n",
              "  <tbody>\n",
              "    <tr>\n",
              "      <th>0</th>\n",
              "      <td>1</td>\n",
              "      <td>3</td>\n",
              "      <td>2018-01-01</td>\n",
              "      <td>5530</td>\n",
              "      <td>668</td>\n",
              "      <td>1</td>\n",
              "      <td>0</td>\n",
              "      <td>55.682829</td>\n",
              "      <td>37.416212</td>\n",
              "    </tr>\n",
              "    <tr>\n",
              "      <th>1</th>\n",
              "      <td>2</td>\n",
              "      <td>3</td>\n",
              "      <td>2018-01-01</td>\n",
              "      <td>4422</td>\n",
              "      <td>650</td>\n",
              "      <td>1</td>\n",
              "      <td>0</td>\n",
              "      <td>55.686410</td>\n",
              "      <td>37.415503</td>\n",
              "    </tr>\n",
              "    <tr>\n",
              "      <th>2</th>\n",
              "      <td>3</td>\n",
              "      <td>3</td>\n",
              "      <td>2018-01-01</td>\n",
              "      <td>6823</td>\n",
              "      <td>805</td>\n",
              "      <td>1</td>\n",
              "      <td>0</td>\n",
              "      <td>55.885081</td>\n",
              "      <td>37.476452</td>\n",
              "    </tr>\n",
              "    <tr>\n",
              "      <th>3</th>\n",
              "      <td>4</td>\n",
              "      <td>3</td>\n",
              "      <td>2018-01-01</td>\n",
              "      <td>9941</td>\n",
              "      <td>1429</td>\n",
              "      <td>1</td>\n",
              "      <td>0</td>\n",
              "      <td>55.711356</td>\n",
              "      <td>37.389027</td>\n",
              "    </tr>\n",
              "    <tr>\n",
              "      <th>4</th>\n",
              "      <td>5</td>\n",
              "      <td>3</td>\n",
              "      <td>2018-01-01</td>\n",
              "      <td>4253</td>\n",
              "      <td>577</td>\n",
              "      <td>1</td>\n",
              "      <td>0</td>\n",
              "      <td>55.902867</td>\n",
              "      <td>37.609132</td>\n",
              "    </tr>\n",
              "    <tr>\n",
              "      <th>...</th>\n",
              "      <td>...</td>\n",
              "      <td>...</td>\n",
              "      <td>...</td>\n",
              "      <td>...</td>\n",
              "      <td>...</td>\n",
              "      <td>...</td>\n",
              "      <td>...</td>\n",
              "      <td>...</td>\n",
              "      <td>...</td>\n",
              "    </tr>\n",
              "    <tr>\n",
              "      <th>1016090</th>\n",
              "      <td>1111</td>\n",
              "      <td>5</td>\n",
              "      <td>2020-07-29</td>\n",
              "      <td>5723</td>\n",
              "      <td>422</td>\n",
              "      <td>1</td>\n",
              "      <td>1</td>\n",
              "      <td>55.878577</td>\n",
              "      <td>37.706292</td>\n",
              "    </tr>\n",
              "    <tr>\n",
              "      <th>1016091</th>\n",
              "      <td>1112</td>\n",
              "      <td>5</td>\n",
              "      <td>2020-07-29</td>\n",
              "      <td>9626</td>\n",
              "      <td>767</td>\n",
              "      <td>1</td>\n",
              "      <td>1</td>\n",
              "      <td>55.791374</td>\n",
              "      <td>37.823187</td>\n",
              "    </tr>\n",
              "    <tr>\n",
              "      <th>1016092</th>\n",
              "      <td>1113</td>\n",
              "      <td>5</td>\n",
              "      <td>2020-07-29</td>\n",
              "      <td>7289</td>\n",
              "      <td>720</td>\n",
              "      <td>1</td>\n",
              "      <td>1</td>\n",
              "      <td>55.756921</td>\n",
              "      <td>37.824353</td>\n",
              "    </tr>\n",
              "    <tr>\n",
              "      <th>1016093</th>\n",
              "      <td>1114</td>\n",
              "      <td>5</td>\n",
              "      <td>2020-07-29</td>\n",
              "      <td>27508</td>\n",
              "      <td>3745</td>\n",
              "      <td>1</td>\n",
              "      <td>1</td>\n",
              "      <td>55.798922</td>\n",
              "      <td>37.822139</td>\n",
              "    </tr>\n",
              "    <tr>\n",
              "      <th>1016094</th>\n",
              "      <td>1115</td>\n",
              "      <td>5</td>\n",
              "      <td>2020-07-29</td>\n",
              "      <td>8680</td>\n",
              "      <td>538</td>\n",
              "      <td>1</td>\n",
              "      <td>1</td>\n",
              "      <td>55.582867</td>\n",
              "      <td>37.653329</td>\n",
              "    </tr>\n",
              "  </tbody>\n",
              "</table>\n",
              "<p>1016095 rows × 9 columns</p>\n",
              "</div>"
            ],
            "text/plain": [
              "         store  dayofweek        date  sales  ...  open  promo        lat        lon\n",
              "0            1          3  2018-01-01   5530  ...     1      0  55.682829  37.416212\n",
              "1            2          3  2018-01-01   4422  ...     1      0  55.686410  37.415503\n",
              "2            3          3  2018-01-01   6823  ...     1      0  55.885081  37.476452\n",
              "3            4          3  2018-01-01   9941  ...     1      0  55.711356  37.389027\n",
              "4            5          3  2018-01-01   4253  ...     1      0  55.902867  37.609132\n",
              "...        ...        ...         ...    ...  ...   ...    ...        ...        ...\n",
              "1016090   1111          5  2020-07-29   5723  ...     1      1  55.878577  37.706292\n",
              "1016091   1112          5  2020-07-29   9626  ...     1      1  55.791374  37.823187\n",
              "1016092   1113          5  2020-07-29   7289  ...     1      1  55.756921  37.824353\n",
              "1016093   1114          5  2020-07-29  27508  ...     1      1  55.798922  37.822139\n",
              "1016094   1115          5  2020-07-29   8680  ...     1      1  55.582867  37.653329\n",
              "\n",
              "[1016095 rows x 9 columns]"
            ]
          },
          "metadata": {},
          "execution_count": 4
        }
      ]
    },
    {
      "cell_type": "markdown",
      "metadata": {
        "id": "9_Bi5A6xiYx9"
      },
      "source": [
        "- store - магазин\n",
        "- dayofweek - день недели\n",
        "- date - дата\n",
        "- sales - продажи\n",
        "- customers - клиенты\n",
        "- open - открыт магазин или нет\n",
        "- promo - была ли промо акция\n",
        "- lat - широта\n",
        "- lon - долгота"
      ]
    },
    {
      "cell_type": "markdown",
      "metadata": {
        "id": "zEGaRY4liYx-"
      },
      "source": [
        "# Делаем прогноз на июль 2020 года"
      ]
    },
    {
      "cell_type": "markdown",
      "metadata": {
        "id": "Sx_ado6jjQnF"
      },
      "source": [
        "<img src='https://drive.google.com/uc?export=view&id=1lkMiS2f-f-DwrBkEQIEp3HBxKm2Im9zX'>"
      ]
    },
    {
      "cell_type": "code",
      "metadata": {
        "id": "Fw3394X7iYx_"
      },
      "source": [
        "df_train = df[df['date'] < '2020-07-01']\n",
        "df_test = df[df['date'] >= '2020-07-01']"
      ],
      "execution_count": null,
      "outputs": []
    },
    {
      "cell_type": "code",
      "metadata": {
        "colab": {
          "base_uri": "https://localhost:8080/",
          "height": 424
        },
        "id": "ZaL9ZNopmYI7",
        "outputId": "9e753942-aaa7-410c-8add-9e498e0bfee5"
      },
      "source": [
        "df_train"
      ],
      "execution_count": null,
      "outputs": [
        {
          "output_type": "execute_result",
          "data": {
            "text/html": [
              "<div>\n",
              "<style scoped>\n",
              "    .dataframe tbody tr th:only-of-type {\n",
              "        vertical-align: middle;\n",
              "    }\n",
              "\n",
              "    .dataframe tbody tr th {\n",
              "        vertical-align: top;\n",
              "    }\n",
              "\n",
              "    .dataframe thead th {\n",
              "        text-align: right;\n",
              "    }\n",
              "</style>\n",
              "<table border=\"1\" class=\"dataframe\">\n",
              "  <thead>\n",
              "    <tr style=\"text-align: right;\">\n",
              "      <th></th>\n",
              "      <th>store</th>\n",
              "      <th>dayofweek</th>\n",
              "      <th>date</th>\n",
              "      <th>sales</th>\n",
              "      <th>customers</th>\n",
              "      <th>open</th>\n",
              "      <th>promo</th>\n",
              "      <th>lat</th>\n",
              "      <th>lon</th>\n",
              "    </tr>\n",
              "  </thead>\n",
              "  <tbody>\n",
              "    <tr>\n",
              "      <th>0</th>\n",
              "      <td>1</td>\n",
              "      <td>3</td>\n",
              "      <td>2018-01-01</td>\n",
              "      <td>5530</td>\n",
              "      <td>668</td>\n",
              "      <td>1</td>\n",
              "      <td>0</td>\n",
              "      <td>55.682829</td>\n",
              "      <td>37.416212</td>\n",
              "    </tr>\n",
              "    <tr>\n",
              "      <th>1</th>\n",
              "      <td>2</td>\n",
              "      <td>3</td>\n",
              "      <td>2018-01-01</td>\n",
              "      <td>4422</td>\n",
              "      <td>650</td>\n",
              "      <td>1</td>\n",
              "      <td>0</td>\n",
              "      <td>55.686410</td>\n",
              "      <td>37.415503</td>\n",
              "    </tr>\n",
              "    <tr>\n",
              "      <th>2</th>\n",
              "      <td>3</td>\n",
              "      <td>3</td>\n",
              "      <td>2018-01-01</td>\n",
              "      <td>6823</td>\n",
              "      <td>805</td>\n",
              "      <td>1</td>\n",
              "      <td>0</td>\n",
              "      <td>55.885081</td>\n",
              "      <td>37.476452</td>\n",
              "    </tr>\n",
              "    <tr>\n",
              "      <th>3</th>\n",
              "      <td>4</td>\n",
              "      <td>3</td>\n",
              "      <td>2018-01-01</td>\n",
              "      <td>9941</td>\n",
              "      <td>1429</td>\n",
              "      <td>1</td>\n",
              "      <td>0</td>\n",
              "      <td>55.711356</td>\n",
              "      <td>37.389027</td>\n",
              "    </tr>\n",
              "    <tr>\n",
              "      <th>4</th>\n",
              "      <td>5</td>\n",
              "      <td>3</td>\n",
              "      <td>2018-01-01</td>\n",
              "      <td>4253</td>\n",
              "      <td>577</td>\n",
              "      <td>1</td>\n",
              "      <td>0</td>\n",
              "      <td>55.902867</td>\n",
              "      <td>37.609132</td>\n",
              "    </tr>\n",
              "    <tr>\n",
              "      <th>...</th>\n",
              "      <td>...</td>\n",
              "      <td>...</td>\n",
              "      <td>...</td>\n",
              "      <td>...</td>\n",
              "      <td>...</td>\n",
              "      <td>...</td>\n",
              "      <td>...</td>\n",
              "      <td>...</td>\n",
              "      <td>...</td>\n",
              "    </tr>\n",
              "    <tr>\n",
              "      <th>983755</th>\n",
              "      <td>1111</td>\n",
              "      <td>4</td>\n",
              "      <td>2020-06-30</td>\n",
              "      <td>3945</td>\n",
              "      <td>329</td>\n",
              "      <td>1</td>\n",
              "      <td>1</td>\n",
              "      <td>55.878577</td>\n",
              "      <td>37.706292</td>\n",
              "    </tr>\n",
              "    <tr>\n",
              "      <th>983756</th>\n",
              "      <td>1112</td>\n",
              "      <td>4</td>\n",
              "      <td>2020-06-30</td>\n",
              "      <td>7447</td>\n",
              "      <td>577</td>\n",
              "      <td>1</td>\n",
              "      <td>1</td>\n",
              "      <td>55.791374</td>\n",
              "      <td>37.823187</td>\n",
              "    </tr>\n",
              "    <tr>\n",
              "      <th>983757</th>\n",
              "      <td>1113</td>\n",
              "      <td>4</td>\n",
              "      <td>2020-06-30</td>\n",
              "      <td>7932</td>\n",
              "      <td>793</td>\n",
              "      <td>1</td>\n",
              "      <td>1</td>\n",
              "      <td>55.756921</td>\n",
              "      <td>37.824353</td>\n",
              "    </tr>\n",
              "    <tr>\n",
              "      <th>983758</th>\n",
              "      <td>1114</td>\n",
              "      <td>4</td>\n",
              "      <td>2020-06-30</td>\n",
              "      <td>24898</td>\n",
              "      <td>3784</td>\n",
              "      <td>1</td>\n",
              "      <td>1</td>\n",
              "      <td>55.798922</td>\n",
              "      <td>37.822139</td>\n",
              "    </tr>\n",
              "    <tr>\n",
              "      <th>983759</th>\n",
              "      <td>1115</td>\n",
              "      <td>4</td>\n",
              "      <td>2020-06-30</td>\n",
              "      <td>6858</td>\n",
              "      <td>452</td>\n",
              "      <td>1</td>\n",
              "      <td>1</td>\n",
              "      <td>55.582867</td>\n",
              "      <td>37.653329</td>\n",
              "    </tr>\n",
              "  </tbody>\n",
              "</table>\n",
              "<p>983760 rows × 9 columns</p>\n",
              "</div>"
            ],
            "text/plain": [
              "        store  dayofweek        date  sales  ...  open  promo        lat        lon\n",
              "0           1          3  2018-01-01   5530  ...     1      0  55.682829  37.416212\n",
              "1           2          3  2018-01-01   4422  ...     1      0  55.686410  37.415503\n",
              "2           3          3  2018-01-01   6823  ...     1      0  55.885081  37.476452\n",
              "3           4          3  2018-01-01   9941  ...     1      0  55.711356  37.389027\n",
              "4           5          3  2018-01-01   4253  ...     1      0  55.902867  37.609132\n",
              "...       ...        ...         ...    ...  ...   ...    ...        ...        ...\n",
              "983755   1111          4  2020-06-30   3945  ...     1      1  55.878577  37.706292\n",
              "983756   1112          4  2020-06-30   7447  ...     1      1  55.791374  37.823187\n",
              "983757   1113          4  2020-06-30   7932  ...     1      1  55.756921  37.824353\n",
              "983758   1114          4  2020-06-30  24898  ...     1      1  55.798922  37.822139\n",
              "983759   1115          4  2020-06-30   6858  ...     1      1  55.582867  37.653329\n",
              "\n",
              "[983760 rows x 9 columns]"
            ]
          },
          "metadata": {},
          "execution_count": 6
        }
      ]
    },
    {
      "cell_type": "code",
      "metadata": {
        "colab": {
          "base_uri": "https://localhost:8080/",
          "height": 424
        },
        "id": "RWDxI-PtmY8a",
        "outputId": "a4ef6f3d-dad2-498a-c8a3-a9f888f2fd16"
      },
      "source": [
        "df_test"
      ],
      "execution_count": null,
      "outputs": [
        {
          "output_type": "execute_result",
          "data": {
            "text/html": [
              "<div>\n",
              "<style scoped>\n",
              "    .dataframe tbody tr th:only-of-type {\n",
              "        vertical-align: middle;\n",
              "    }\n",
              "\n",
              "    .dataframe tbody tr th {\n",
              "        vertical-align: top;\n",
              "    }\n",
              "\n",
              "    .dataframe thead th {\n",
              "        text-align: right;\n",
              "    }\n",
              "</style>\n",
              "<table border=\"1\" class=\"dataframe\">\n",
              "  <thead>\n",
              "    <tr style=\"text-align: right;\">\n",
              "      <th></th>\n",
              "      <th>store</th>\n",
              "      <th>dayofweek</th>\n",
              "      <th>date</th>\n",
              "      <th>sales</th>\n",
              "      <th>customers</th>\n",
              "      <th>open</th>\n",
              "      <th>promo</th>\n",
              "      <th>lat</th>\n",
              "      <th>lon</th>\n",
              "    </tr>\n",
              "  </thead>\n",
              "  <tbody>\n",
              "    <tr>\n",
              "      <th>983760</th>\n",
              "      <td>1</td>\n",
              "      <td>5</td>\n",
              "      <td>2020-07-01</td>\n",
              "      <td>4665</td>\n",
              "      <td>538</td>\n",
              "      <td>1</td>\n",
              "      <td>1</td>\n",
              "      <td>55.682829</td>\n",
              "      <td>37.416212</td>\n",
              "    </tr>\n",
              "    <tr>\n",
              "      <th>983761</th>\n",
              "      <td>2</td>\n",
              "      <td>5</td>\n",
              "      <td>2020-07-01</td>\n",
              "      <td>4838</td>\n",
              "      <td>1029</td>\n",
              "      <td>1</td>\n",
              "      <td>1</td>\n",
              "      <td>55.686410</td>\n",
              "      <td>37.415503</td>\n",
              "    </tr>\n",
              "    <tr>\n",
              "      <th>983762</th>\n",
              "      <td>3</td>\n",
              "      <td>5</td>\n",
              "      <td>2020-07-01</td>\n",
              "      <td>8149</td>\n",
              "      <td>742</td>\n",
              "      <td>1</td>\n",
              "      <td>1</td>\n",
              "      <td>55.885081</td>\n",
              "      <td>37.476452</td>\n",
              "    </tr>\n",
              "    <tr>\n",
              "      <th>983763</th>\n",
              "      <td>4</td>\n",
              "      <td>5</td>\n",
              "      <td>2020-07-01</td>\n",
              "      <td>11543</td>\n",
              "      <td>1395</td>\n",
              "      <td>1</td>\n",
              "      <td>1</td>\n",
              "      <td>55.711356</td>\n",
              "      <td>37.389027</td>\n",
              "    </tr>\n",
              "    <tr>\n",
              "      <th>983764</th>\n",
              "      <td>5</td>\n",
              "      <td>5</td>\n",
              "      <td>2020-07-01</td>\n",
              "      <td>4475</td>\n",
              "      <td>527</td>\n",
              "      <td>1</td>\n",
              "      <td>1</td>\n",
              "      <td>55.902867</td>\n",
              "      <td>37.609132</td>\n",
              "    </tr>\n",
              "    <tr>\n",
              "      <th>...</th>\n",
              "      <td>...</td>\n",
              "      <td>...</td>\n",
              "      <td>...</td>\n",
              "      <td>...</td>\n",
              "      <td>...</td>\n",
              "      <td>...</td>\n",
              "      <td>...</td>\n",
              "      <td>...</td>\n",
              "      <td>...</td>\n",
              "    </tr>\n",
              "    <tr>\n",
              "      <th>1016090</th>\n",
              "      <td>1111</td>\n",
              "      <td>5</td>\n",
              "      <td>2020-07-29</td>\n",
              "      <td>5723</td>\n",
              "      <td>422</td>\n",
              "      <td>1</td>\n",
              "      <td>1</td>\n",
              "      <td>55.878577</td>\n",
              "      <td>37.706292</td>\n",
              "    </tr>\n",
              "    <tr>\n",
              "      <th>1016091</th>\n",
              "      <td>1112</td>\n",
              "      <td>5</td>\n",
              "      <td>2020-07-29</td>\n",
              "      <td>9626</td>\n",
              "      <td>767</td>\n",
              "      <td>1</td>\n",
              "      <td>1</td>\n",
              "      <td>55.791374</td>\n",
              "      <td>37.823187</td>\n",
              "    </tr>\n",
              "    <tr>\n",
              "      <th>1016092</th>\n",
              "      <td>1113</td>\n",
              "      <td>5</td>\n",
              "      <td>2020-07-29</td>\n",
              "      <td>7289</td>\n",
              "      <td>720</td>\n",
              "      <td>1</td>\n",
              "      <td>1</td>\n",
              "      <td>55.756921</td>\n",
              "      <td>37.824353</td>\n",
              "    </tr>\n",
              "    <tr>\n",
              "      <th>1016093</th>\n",
              "      <td>1114</td>\n",
              "      <td>5</td>\n",
              "      <td>2020-07-29</td>\n",
              "      <td>27508</td>\n",
              "      <td>3745</td>\n",
              "      <td>1</td>\n",
              "      <td>1</td>\n",
              "      <td>55.798922</td>\n",
              "      <td>37.822139</td>\n",
              "    </tr>\n",
              "    <tr>\n",
              "      <th>1016094</th>\n",
              "      <td>1115</td>\n",
              "      <td>5</td>\n",
              "      <td>2020-07-29</td>\n",
              "      <td>8680</td>\n",
              "      <td>538</td>\n",
              "      <td>1</td>\n",
              "      <td>1</td>\n",
              "      <td>55.582867</td>\n",
              "      <td>37.653329</td>\n",
              "    </tr>\n",
              "  </tbody>\n",
              "</table>\n",
              "<p>32335 rows × 9 columns</p>\n",
              "</div>"
            ],
            "text/plain": [
              "         store  dayofweek        date  sales  ...  open  promo        lat        lon\n",
              "983760       1          5  2020-07-01   4665  ...     1      1  55.682829  37.416212\n",
              "983761       2          5  2020-07-01   4838  ...     1      1  55.686410  37.415503\n",
              "983762       3          5  2020-07-01   8149  ...     1      1  55.885081  37.476452\n",
              "983763       4          5  2020-07-01  11543  ...     1      1  55.711356  37.389027\n",
              "983764       5          5  2020-07-01   4475  ...     1      1  55.902867  37.609132\n",
              "...        ...        ...         ...    ...  ...   ...    ...        ...        ...\n",
              "1016090   1111          5  2020-07-29   5723  ...     1      1  55.878577  37.706292\n",
              "1016091   1112          5  2020-07-29   9626  ...     1      1  55.791374  37.823187\n",
              "1016092   1113          5  2020-07-29   7289  ...     1      1  55.756921  37.824353\n",
              "1016093   1114          5  2020-07-29  27508  ...     1      1  55.798922  37.822139\n",
              "1016094   1115          5  2020-07-29   8680  ...     1      1  55.582867  37.653329\n",
              "\n",
              "[32335 rows x 9 columns]"
            ]
          },
          "metadata": {},
          "execution_count": 7
        }
      ]
    },
    {
      "cell_type": "markdown",
      "metadata": {
        "id": "qK1Ns739iYx_"
      },
      "source": [
        "# Возьмем несколько признаков"
      ]
    },
    {
      "cell_type": "code",
      "metadata": {
        "id": "-A-rxtcoiYyA"
      },
      "source": [
        "features = [\n",
        "    'store',\n",
        "    'dayofweek',\n",
        "    'customers',\n",
        "    'open',\n",
        "    'promo',\n",
        "]\n",
        "\n",
        "target = ['sales']"
      ],
      "execution_count": null,
      "outputs": []
    },
    {
      "cell_type": "markdown",
      "metadata": {
        "id": "l35o6C2aiYyA"
      },
      "source": [
        "# Воспользуемся простым методом прогноза"
      ]
    },
    {
      "cell_type": "markdown",
      "metadata": {
        "id": "BlNwnGwwjdPl"
      },
      "source": [
        "<img src='https://drive.google.com/uc?export=view&id=1alUGHx-Pabz3C3xvFDHxYbgP3tsPsH1D'>"
      ]
    },
    {
      "cell_type": "code",
      "metadata": {
        "id": "5M2QPa6IiYyB"
      },
      "source": [
        "model = linear_model.LinearRegression()"
      ],
      "execution_count": null,
      "outputs": []
    },
    {
      "cell_type": "markdown",
      "metadata": {
        "id": "2LInPKq5iYyC"
      },
      "source": [
        "# Научим нашу модель"
      ]
    },
    {
      "cell_type": "code",
      "metadata": {
        "colab": {
          "base_uri": "https://localhost:8080/"
        },
        "id": "6tGdMLyoiYyC",
        "outputId": "482de736-4125-4fba-8813-f94b813fc7cf"
      },
      "source": [
        "model.fit(\n",
        "    X=df_train[features],\n",
        "    y=df_train[target]\n",
        ")"
      ],
      "execution_count": null,
      "outputs": [
        {
          "output_type": "execute_result",
          "data": {
            "text/plain": [
              "LinearRegression(copy_X=True, fit_intercept=True, n_jobs=None, normalize=False)"
            ]
          },
          "metadata": {},
          "execution_count": 10
        }
      ]
    },
    {
      "cell_type": "code",
      "metadata": {
        "colab": {
          "base_uri": "https://localhost:8080/"
        },
        "id": "uIASHWgommV9",
        "outputId": "a088fe53-1db7-4f4d-fb5b-6cee036b496a"
      },
      "source": [
        "coefs = model.coef_[0]\n",
        "coefs"
      ],
      "execution_count": null,
      "outputs": [
        {
          "output_type": "execute_result",
          "data": {
            "text/plain": [
              "array([-1.51031308e-01, -5.55572871e+01,  6.07463705e+00,  1.67556349e+03,\n",
              "        1.27110167e+03])"
            ]
          },
          "metadata": {},
          "execution_count": 11
        }
      ]
    },
    {
      "cell_type": "code",
      "metadata": {
        "colab": {
          "base_uri": "https://localhost:8080/"
        },
        "id": "cxlsilBN5YiL",
        "outputId": "959ef02c-4dbd-421a-bb5b-8c19ef150eb6"
      },
      "source": [
        "intercept = model.intercept_\n",
        "intercept"
      ],
      "execution_count": null,
      "outputs": [
        {
          "output_type": "execute_result",
          "data": {
            "text/plain": [
              "array([352.11911259])"
            ]
          },
          "metadata": {},
          "execution_count": 12
        }
      ]
    },
    {
      "cell_type": "code",
      "metadata": {
        "colab": {
          "base_uri": "https://localhost:8080/",
          "height": 81
        },
        "id": "OGuTm7jCmnti",
        "outputId": "95abcc9b-cc2e-46a9-a304-dd1eb415a2a3"
      },
      "source": [
        "df_train[features].head(1)"
      ],
      "execution_count": null,
      "outputs": [
        {
          "output_type": "execute_result",
          "data": {
            "text/html": [
              "<div>\n",
              "<style scoped>\n",
              "    .dataframe tbody tr th:only-of-type {\n",
              "        vertical-align: middle;\n",
              "    }\n",
              "\n",
              "    .dataframe tbody tr th {\n",
              "        vertical-align: top;\n",
              "    }\n",
              "\n",
              "    .dataframe thead th {\n",
              "        text-align: right;\n",
              "    }\n",
              "</style>\n",
              "<table border=\"1\" class=\"dataframe\">\n",
              "  <thead>\n",
              "    <tr style=\"text-align: right;\">\n",
              "      <th></th>\n",
              "      <th>store</th>\n",
              "      <th>dayofweek</th>\n",
              "      <th>customers</th>\n",
              "      <th>open</th>\n",
              "      <th>promo</th>\n",
              "    </tr>\n",
              "  </thead>\n",
              "  <tbody>\n",
              "    <tr>\n",
              "      <th>0</th>\n",
              "      <td>1</td>\n",
              "      <td>3</td>\n",
              "      <td>668</td>\n",
              "      <td>1</td>\n",
              "      <td>0</td>\n",
              "    </tr>\n",
              "  </tbody>\n",
              "</table>\n",
              "</div>"
            ],
            "text/plain": [
              "   store  dayofweek  customers  open  promo\n",
              "0      1          3        668     1      0"
            ]
          },
          "metadata": {},
          "execution_count": 13
        }
      ]
    },
    {
      "cell_type": "code",
      "metadata": {
        "colab": {
          "base_uri": "https://localhost:8080/"
        },
        "id": "aG6PRRt-mp2d",
        "outputId": "51aa8768-b57e-4a41-f8d6-db3ec8aa3bd9"
      },
      "source": [
        "1 * coefs[0] + 3 * coefs[1] + 668 * coefs[2] + 1 * coefs[3] + 0 * coefs[4] + intercept"
      ],
      "execution_count": null,
      "outputs": [
        {
          "output_type": "execute_result",
          "data": {
            "text/plain": [
              "array([5918.71726263])"
            ]
          },
          "metadata": {},
          "execution_count": 15
        }
      ]
    },
    {
      "cell_type": "code",
      "metadata": {
        "colab": {
          "base_uri": "https://localhost:8080/"
        },
        "id": "tuzuVwgK5Uqa",
        "outputId": "e0ce6b85-e365-4512-db85-1d39b82c1712"
      },
      "source": [
        "model.predict(df_train[features].head(1))"
      ],
      "execution_count": null,
      "outputs": [
        {
          "output_type": "execute_result",
          "data": {
            "text/plain": [
              "array([[5918.71726263]])"
            ]
          },
          "metadata": {},
          "execution_count": 14
        }
      ]
    },
    {
      "cell_type": "code",
      "metadata": {
        "colab": {
          "base_uri": "https://localhost:8080/",
          "height": 81
        },
        "id": "B3eX075Bm5mU",
        "outputId": "96a57bba-d528-4bdf-9683-f2c4ab6d1d44"
      },
      "source": [
        "df_train[target].head(1)"
      ],
      "execution_count": null,
      "outputs": [
        {
          "output_type": "execute_result",
          "data": {
            "text/html": [
              "<div>\n",
              "<style scoped>\n",
              "    .dataframe tbody tr th:only-of-type {\n",
              "        vertical-align: middle;\n",
              "    }\n",
              "\n",
              "    .dataframe tbody tr th {\n",
              "        vertical-align: top;\n",
              "    }\n",
              "\n",
              "    .dataframe thead th {\n",
              "        text-align: right;\n",
              "    }\n",
              "</style>\n",
              "<table border=\"1\" class=\"dataframe\">\n",
              "  <thead>\n",
              "    <tr style=\"text-align: right;\">\n",
              "      <th></th>\n",
              "      <th>sales</th>\n",
              "    </tr>\n",
              "  </thead>\n",
              "  <tbody>\n",
              "    <tr>\n",
              "      <th>0</th>\n",
              "      <td>5530</td>\n",
              "    </tr>\n",
              "  </tbody>\n",
              "</table>\n",
              "</div>"
            ],
            "text/plain": [
              "   sales\n",
              "0   5530"
            ]
          },
          "metadata": {},
          "execution_count": 15
        }
      ]
    },
    {
      "cell_type": "markdown",
      "metadata": {
        "id": "Yd9AbqK-iYyD"
      },
      "source": [
        "# Сделаем прогноз"
      ]
    },
    {
      "cell_type": "markdown",
      "metadata": {
        "id": "JXgQCmaAjm5W"
      },
      "source": [
        "<img src='https://drive.google.com/uc?export=view&id=1YUyJxrl9ZLCGCJjSK1PvAm8IeHZU7brE'>"
      ]
    },
    {
      "cell_type": "code",
      "metadata": {
        "id": "HHyql5gViYyD"
      },
      "source": [
        "pred = model.predict(\n",
        "    X=df_test[features]\n",
        ")"
      ],
      "execution_count": null,
      "outputs": []
    },
    {
      "cell_type": "code",
      "metadata": {
        "colab": {
          "base_uri": "https://localhost:8080/"
        },
        "id": "XPatFGg14PnN",
        "outputId": "26c36d1b-29cc-4b70-92b4-18e3e907d5f3"
      },
      "source": [
        "pred"
      ],
      "execution_count": null,
      "outputs": [
        {
          "output_type": "execute_result",
          "data": {
            "text/plain": [
              "array([[ 6289.00153871],\n",
              "       [ 9271.49730015],\n",
              "       [ 7527.9254348 ],\n",
              "       ...,\n",
              "       [ 7226.63866794],\n",
              "       [25602.26472027],\n",
              "       [ 6120.75266178]])"
            ]
          },
          "metadata": {},
          "execution_count": 17
        }
      ]
    },
    {
      "cell_type": "code",
      "metadata": {
        "colab": {
          "base_uri": "https://localhost:8080/",
          "height": 424
        },
        "id": "vB_XODD-nTVC",
        "outputId": "502dd327-87fd-43b9-d1db-51cc608ef0df"
      },
      "source": [
        "pd.DataFrame(pred, columns=['pred'])"
      ],
      "execution_count": null,
      "outputs": [
        {
          "output_type": "execute_result",
          "data": {
            "text/html": [
              "<div>\n",
              "<style scoped>\n",
              "    .dataframe tbody tr th:only-of-type {\n",
              "        vertical-align: middle;\n",
              "    }\n",
              "\n",
              "    .dataframe tbody tr th {\n",
              "        vertical-align: top;\n",
              "    }\n",
              "\n",
              "    .dataframe thead th {\n",
              "        text-align: right;\n",
              "    }\n",
              "</style>\n",
              "<table border=\"1\" class=\"dataframe\">\n",
              "  <thead>\n",
              "    <tr style=\"text-align: right;\">\n",
              "      <th></th>\n",
              "      <th>pred</th>\n",
              "    </tr>\n",
              "  </thead>\n",
              "  <tbody>\n",
              "    <tr>\n",
              "      <th>0</th>\n",
              "      <td>6289.001539</td>\n",
              "    </tr>\n",
              "    <tr>\n",
              "      <th>1</th>\n",
              "      <td>9271.497300</td>\n",
              "    </tr>\n",
              "    <tr>\n",
              "      <th>2</th>\n",
              "      <td>7527.925435</td>\n",
              "    </tr>\n",
              "    <tr>\n",
              "      <th>3</th>\n",
              "      <td>11494.512399</td>\n",
              "    </tr>\n",
              "    <tr>\n",
              "      <th>4</th>\n",
              "      <td>6221.576406</td>\n",
              "    </tr>\n",
              "    <tr>\n",
              "      <th>...</th>\n",
              "      <td>...</td>\n",
              "    </tr>\n",
              "    <tr>\n",
              "      <th>32330</th>\n",
              "      <td>5416.698889</td>\n",
              "    </tr>\n",
              "    <tr>\n",
              "      <th>32331</th>\n",
              "      <td>7512.297641</td>\n",
              "    </tr>\n",
              "    <tr>\n",
              "      <th>32332</th>\n",
              "      <td>7226.638668</td>\n",
              "    </tr>\n",
              "    <tr>\n",
              "      <th>32333</th>\n",
              "      <td>25602.264720</td>\n",
              "    </tr>\n",
              "    <tr>\n",
              "      <th>32334</th>\n",
              "      <td>6120.752662</td>\n",
              "    </tr>\n",
              "  </tbody>\n",
              "</table>\n",
              "<p>32335 rows × 1 columns</p>\n",
              "</div>"
            ],
            "text/plain": [
              "               pred\n",
              "0       6289.001539\n",
              "1       9271.497300\n",
              "2       7527.925435\n",
              "3      11494.512399\n",
              "4       6221.576406\n",
              "...             ...\n",
              "32330   5416.698889\n",
              "32331   7512.297641\n",
              "32332   7226.638668\n",
              "32333  25602.264720\n",
              "32334   6120.752662\n",
              "\n",
              "[32335 rows x 1 columns]"
            ]
          },
          "metadata": {},
          "execution_count": 18
        }
      ]
    },
    {
      "cell_type": "markdown",
      "metadata": {
        "id": "Tu8PVCOfiYyE"
      },
      "source": [
        "# Оценим точность прогноза"
      ]
    },
    {
      "cell_type": "markdown",
      "metadata": {
        "id": "C8f9h-u9juxb"
      },
      "source": [
        "<img src='https://drive.google.com/uc?export=view&id=1LK0jRvKpxNar4OCCJI_XdqnYs8hxnIUU'>"
      ]
    },
    {
      "cell_type": "code",
      "metadata": {
        "colab": {
          "base_uri": "https://localhost:8080/"
        },
        "id": "04tchIowiYyF",
        "outputId": "1ad4b938-2db3-412e-f854-7b40842ad470"
      },
      "source": [
        "df_test['pred'] = pred"
      ],
      "execution_count": null,
      "outputs": [
        {
          "output_type": "stream",
          "text": [
            "/usr/local/lib/python3.7/dist-packages/ipykernel_launcher.py:1: SettingWithCopyWarning: \n",
            "A value is trying to be set on a copy of a slice from a DataFrame.\n",
            "Try using .loc[row_indexer,col_indexer] = value instead\n",
            "\n",
            "See the caveats in the documentation: https://pandas.pydata.org/pandas-docs/stable/user_guide/indexing.html#returning-a-view-versus-a-copy\n",
            "  \"\"\"Entry point for launching an IPython kernel.\n"
          ],
          "name": "stderr"
        }
      ]
    },
    {
      "cell_type": "code",
      "metadata": {
        "colab": {
          "base_uri": "https://localhost:8080/",
          "height": 424
        },
        "id": "QGWbxAEknP2o",
        "outputId": "49ea2e4e-9bf5-4cb0-ad95-a1b5c50f230f"
      },
      "source": [
        "df_test[target + ['pred']]"
      ],
      "execution_count": null,
      "outputs": [
        {
          "output_type": "execute_result",
          "data": {
            "text/html": [
              "<div>\n",
              "<style scoped>\n",
              "    .dataframe tbody tr th:only-of-type {\n",
              "        vertical-align: middle;\n",
              "    }\n",
              "\n",
              "    .dataframe tbody tr th {\n",
              "        vertical-align: top;\n",
              "    }\n",
              "\n",
              "    .dataframe thead th {\n",
              "        text-align: right;\n",
              "    }\n",
              "</style>\n",
              "<table border=\"1\" class=\"dataframe\">\n",
              "  <thead>\n",
              "    <tr style=\"text-align: right;\">\n",
              "      <th></th>\n",
              "      <th>sales</th>\n",
              "      <th>pred</th>\n",
              "    </tr>\n",
              "  </thead>\n",
              "  <tbody>\n",
              "    <tr>\n",
              "      <th>983760</th>\n",
              "      <td>4665</td>\n",
              "      <td>6289.001539</td>\n",
              "    </tr>\n",
              "    <tr>\n",
              "      <th>983761</th>\n",
              "      <td>4838</td>\n",
              "      <td>9271.497300</td>\n",
              "    </tr>\n",
              "    <tr>\n",
              "      <th>983762</th>\n",
              "      <td>8149</td>\n",
              "      <td>7527.925435</td>\n",
              "    </tr>\n",
              "    <tr>\n",
              "      <th>983763</th>\n",
              "      <td>11543</td>\n",
              "      <td>11494.512399</td>\n",
              "    </tr>\n",
              "    <tr>\n",
              "      <th>983764</th>\n",
              "      <td>4475</td>\n",
              "      <td>6221.576406</td>\n",
              "    </tr>\n",
              "    <tr>\n",
              "      <th>...</th>\n",
              "      <td>...</td>\n",
              "      <td>...</td>\n",
              "    </tr>\n",
              "    <tr>\n",
              "      <th>1016090</th>\n",
              "      <td>5723</td>\n",
              "      <td>5416.698889</td>\n",
              "    </tr>\n",
              "    <tr>\n",
              "      <th>1016091</th>\n",
              "      <td>9626</td>\n",
              "      <td>7512.297641</td>\n",
              "    </tr>\n",
              "    <tr>\n",
              "      <th>1016092</th>\n",
              "      <td>7289</td>\n",
              "      <td>7226.638668</td>\n",
              "    </tr>\n",
              "    <tr>\n",
              "      <th>1016093</th>\n",
              "      <td>27508</td>\n",
              "      <td>25602.264720</td>\n",
              "    </tr>\n",
              "    <tr>\n",
              "      <th>1016094</th>\n",
              "      <td>8680</td>\n",
              "      <td>6120.752662</td>\n",
              "    </tr>\n",
              "  </tbody>\n",
              "</table>\n",
              "<p>32335 rows × 2 columns</p>\n",
              "</div>"
            ],
            "text/plain": [
              "         sales          pred\n",
              "983760    4665   6289.001539\n",
              "983761    4838   9271.497300\n",
              "983762    8149   7527.925435\n",
              "983763   11543  11494.512399\n",
              "983764    4475   6221.576406\n",
              "...        ...           ...\n",
              "1016090   5723   5416.698889\n",
              "1016091   9626   7512.297641\n",
              "1016092   7289   7226.638668\n",
              "1016093  27508  25602.264720\n",
              "1016094   8680   6120.752662\n",
              "\n",
              "[32335 rows x 2 columns]"
            ]
          },
          "metadata": {},
          "execution_count": 20
        }
      ]
    },
    {
      "cell_type": "code",
      "metadata": {
        "colab": {
          "base_uri": "https://localhost:8080/"
        },
        "id": "slD3O54miYyF",
        "outputId": "dce53aa1-3784-4eb4-fa27-bc9217c21cf7"
      },
      "source": [
        "df_test['sales'].sum() / df_test['pred'].sum()"
      ],
      "execution_count": null,
      "outputs": [
        {
          "output_type": "execute_result",
          "data": {
            "text/plain": [
              "1.0347025941635466"
            ]
          },
          "metadata": {},
          "execution_count": 21
        }
      ]
    },
    {
      "cell_type": "code",
      "metadata": {
        "colab": {
          "base_uri": "https://localhost:8080/"
        },
        "id": "ZSP9baBpnjsK",
        "outputId": "3802bbaa-3c62-436f-ddfa-f88da07f97bb"
      },
      "source": [
        "df_test['sales'].sum()"
      ],
      "execution_count": null,
      "outputs": [
        {
          "output_type": "execute_result",
          "data": {
            "text/plain": [
              "194886651"
            ]
          },
          "metadata": {},
          "execution_count": 22
        }
      ]
    },
    {
      "cell_type": "code",
      "metadata": {
        "colab": {
          "base_uri": "https://localhost:8080/"
        },
        "id": "W8Q1bOA-njnF",
        "outputId": "6b7fb59c-1a90-47e7-9257-458c7f23c8fb"
      },
      "source": [
        "df_test['pred'].sum()"
      ],
      "execution_count": null,
      "outputs": [
        {
          "output_type": "execute_result",
          "data": {
            "text/plain": [
              "188350403.39059585"
            ]
          },
          "metadata": {},
          "execution_count": 23
        }
      ]
    },
    {
      "cell_type": "markdown",
      "metadata": {
        "id": "E41NrCBGiYyI"
      },
      "source": [
        "# GIS"
      ]
    },
    {
      "cell_type": "code",
      "metadata": {
        "colab": {
          "base_uri": "https://localhost:8080/",
          "height": 424
        },
        "id": "mWV13QbNpxqg",
        "outputId": "81e0058a-4326-4992-e1a1-d44a09c88b8c"
      },
      "source": [
        "df_agg = df.groupby('store', as_index=False).mean()[['store', 'sales']]\n",
        "df_agg.rename(columns={'sales': 'sales_average'}, inplace=True)\n",
        "df_agg.sales_average = df_agg.sales_average.astype('int64')\n",
        "df_agg"
      ],
      "execution_count": null,
      "outputs": [
        {
          "output_type": "execute_result",
          "data": {
            "text/html": [
              "<div>\n",
              "<style scoped>\n",
              "    .dataframe tbody tr th:only-of-type {\n",
              "        vertical-align: middle;\n",
              "    }\n",
              "\n",
              "    .dataframe tbody tr th {\n",
              "        vertical-align: top;\n",
              "    }\n",
              "\n",
              "    .dataframe thead th {\n",
              "        text-align: right;\n",
              "    }\n",
              "</style>\n",
              "<table border=\"1\" class=\"dataframe\">\n",
              "  <thead>\n",
              "    <tr style=\"text-align: right;\">\n",
              "      <th></th>\n",
              "      <th>store</th>\n",
              "      <th>sales_average</th>\n",
              "    </tr>\n",
              "  </thead>\n",
              "  <tbody>\n",
              "    <tr>\n",
              "      <th>0</th>\n",
              "      <td>1</td>\n",
              "      <td>3949</td>\n",
              "    </tr>\n",
              "    <tr>\n",
              "      <th>1</th>\n",
              "      <td>2</td>\n",
              "      <td>4127</td>\n",
              "    </tr>\n",
              "    <tr>\n",
              "      <th>2</th>\n",
              "      <td>3</td>\n",
              "      <td>5747</td>\n",
              "    </tr>\n",
              "    <tr>\n",
              "      <th>3</th>\n",
              "      <td>4</td>\n",
              "      <td>8030</td>\n",
              "    </tr>\n",
              "    <tr>\n",
              "      <th>4</th>\n",
              "      <td>5</td>\n",
              "      <td>3871</td>\n",
              "    </tr>\n",
              "    <tr>\n",
              "      <th>...</th>\n",
              "      <td>...</td>\n",
              "      <td>...</td>\n",
              "    </tr>\n",
              "    <tr>\n",
              "      <th>1110</th>\n",
              "      <td>1111</td>\n",
              "      <td>4347</td>\n",
              "    </tr>\n",
              "    <tr>\n",
              "      <th>1111</th>\n",
              "      <td>1112</td>\n",
              "      <td>8474</td>\n",
              "    </tr>\n",
              "    <tr>\n",
              "      <th>1112</th>\n",
              "      <td>1113</td>\n",
              "      <td>5522</td>\n",
              "    </tr>\n",
              "    <tr>\n",
              "      <th>1113</th>\n",
              "      <td>1114</td>\n",
              "      <td>17218</td>\n",
              "    </tr>\n",
              "    <tr>\n",
              "      <th>1114</th>\n",
              "      <td>1115</td>\n",
              "      <td>5230</td>\n",
              "    </tr>\n",
              "  </tbody>\n",
              "</table>\n",
              "<p>1115 rows × 2 columns</p>\n",
              "</div>"
            ],
            "text/plain": [
              "      store  sales_average\n",
              "0         1           3949\n",
              "1         2           4127\n",
              "2         3           5747\n",
              "3         4           8030\n",
              "4         5           3871\n",
              "...     ...            ...\n",
              "1110   1111           4347\n",
              "1111   1112           8474\n",
              "1112   1113           5522\n",
              "1113   1114          17218\n",
              "1114   1115           5230\n",
              "\n",
              "[1115 rows x 2 columns]"
            ]
          },
          "metadata": {},
          "execution_count": 24
        }
      ]
    },
    {
      "cell_type": "code",
      "metadata": {
        "id": "wb6eoALfqBLw"
      },
      "source": [
        "df_stores = df.merge(df_agg, on='store').drop_duplicates(subset='store')"
      ],
      "execution_count": null,
      "outputs": []
    },
    {
      "cell_type": "code",
      "metadata": {
        "id": "Kr8StvcOpJhD"
      },
      "source": [
        "df_stores = df_stores[['store', 'lat', 'lon', 'sales_average']]"
      ],
      "execution_count": null,
      "outputs": []
    },
    {
      "cell_type": "code",
      "metadata": {
        "colab": {
          "base_uri": "https://localhost:8080/",
          "height": 424
        },
        "id": "2zBp2JsNpMCP",
        "outputId": "498761e8-10d2-438a-df77-e4ea882753d8"
      },
      "source": [
        "df_stores"
      ],
      "execution_count": null,
      "outputs": [
        {
          "output_type": "execute_result",
          "data": {
            "text/html": [
              "<div>\n",
              "<style scoped>\n",
              "    .dataframe tbody tr th:only-of-type {\n",
              "        vertical-align: middle;\n",
              "    }\n",
              "\n",
              "    .dataframe tbody tr th {\n",
              "        vertical-align: top;\n",
              "    }\n",
              "\n",
              "    .dataframe thead th {\n",
              "        text-align: right;\n",
              "    }\n",
              "</style>\n",
              "<table border=\"1\" class=\"dataframe\">\n",
              "  <thead>\n",
              "    <tr style=\"text-align: right;\">\n",
              "      <th></th>\n",
              "      <th>store</th>\n",
              "      <th>lat</th>\n",
              "      <th>lon</th>\n",
              "      <th>sales_average</th>\n",
              "    </tr>\n",
              "  </thead>\n",
              "  <tbody>\n",
              "    <tr>\n",
              "      <th>0</th>\n",
              "      <td>1</td>\n",
              "      <td>55.682829</td>\n",
              "      <td>37.416212</td>\n",
              "      <td>3949</td>\n",
              "    </tr>\n",
              "    <tr>\n",
              "      <th>941</th>\n",
              "      <td>2</td>\n",
              "      <td>55.686410</td>\n",
              "      <td>37.415503</td>\n",
              "      <td>4127</td>\n",
              "    </tr>\n",
              "    <tr>\n",
              "      <th>1882</th>\n",
              "      <td>3</td>\n",
              "      <td>55.885081</td>\n",
              "      <td>37.476452</td>\n",
              "      <td>5747</td>\n",
              "    </tr>\n",
              "    <tr>\n",
              "      <th>2823</th>\n",
              "      <td>4</td>\n",
              "      <td>55.711356</td>\n",
              "      <td>37.389027</td>\n",
              "      <td>8030</td>\n",
              "    </tr>\n",
              "    <tr>\n",
              "      <th>3764</th>\n",
              "      <td>5</td>\n",
              "      <td>55.902867</td>\n",
              "      <td>37.609132</td>\n",
              "      <td>3871</td>\n",
              "    </tr>\n",
              "    <tr>\n",
              "      <th>...</th>\n",
              "      <td>...</td>\n",
              "      <td>...</td>\n",
              "      <td>...</td>\n",
              "      <td>...</td>\n",
              "    </tr>\n",
              "    <tr>\n",
              "      <th>1011390</th>\n",
              "      <td>1111</td>\n",
              "      <td>55.878577</td>\n",
              "      <td>37.706292</td>\n",
              "      <td>4347</td>\n",
              "    </tr>\n",
              "    <tr>\n",
              "      <th>1012331</th>\n",
              "      <td>1112</td>\n",
              "      <td>55.791374</td>\n",
              "      <td>37.823187</td>\n",
              "      <td>8474</td>\n",
              "    </tr>\n",
              "    <tr>\n",
              "      <th>1013272</th>\n",
              "      <td>1113</td>\n",
              "      <td>55.756921</td>\n",
              "      <td>37.824353</td>\n",
              "      <td>5522</td>\n",
              "    </tr>\n",
              "    <tr>\n",
              "      <th>1014213</th>\n",
              "      <td>1114</td>\n",
              "      <td>55.798922</td>\n",
              "      <td>37.822139</td>\n",
              "      <td>17218</td>\n",
              "    </tr>\n",
              "    <tr>\n",
              "      <th>1015154</th>\n",
              "      <td>1115</td>\n",
              "      <td>55.582867</td>\n",
              "      <td>37.653329</td>\n",
              "      <td>5230</td>\n",
              "    </tr>\n",
              "  </tbody>\n",
              "</table>\n",
              "<p>1115 rows × 4 columns</p>\n",
              "</div>"
            ],
            "text/plain": [
              "         store        lat        lon  sales_average\n",
              "0            1  55.682829  37.416212           3949\n",
              "941          2  55.686410  37.415503           4127\n",
              "1882         3  55.885081  37.476452           5747\n",
              "2823         4  55.711356  37.389027           8030\n",
              "3764         5  55.902867  37.609132           3871\n",
              "...        ...        ...        ...            ...\n",
              "1011390   1111  55.878577  37.706292           4347\n",
              "1012331   1112  55.791374  37.823187           8474\n",
              "1013272   1113  55.756921  37.824353           5522\n",
              "1014213   1114  55.798922  37.822139          17218\n",
              "1015154   1115  55.582867  37.653329           5230\n",
              "\n",
              "[1115 rows x 4 columns]"
            ]
          },
          "metadata": {},
          "execution_count": 27
        }
      ]
    },
    {
      "cell_type": "code",
      "metadata": {
        "id": "q2Y7TGNgiYyH"
      },
      "source": [
        "df_agg_train = df_stores[df_stores['store'] < 1111]\n",
        "df_agg_test = df_stores[df_stores['store'] >= 1111]"
      ],
      "execution_count": null,
      "outputs": []
    },
    {
      "cell_type": "code",
      "metadata": {
        "colab": {
          "base_uri": "https://localhost:8080/",
          "height": 424
        },
        "id": "rXASiovlogjI",
        "outputId": "6c974cb0-4ec5-47b7-c32f-b618e92c3d59"
      },
      "source": [
        "df_agg_train"
      ],
      "execution_count": null,
      "outputs": [
        {
          "output_type": "execute_result",
          "data": {
            "text/html": [
              "<div>\n",
              "<style scoped>\n",
              "    .dataframe tbody tr th:only-of-type {\n",
              "        vertical-align: middle;\n",
              "    }\n",
              "\n",
              "    .dataframe tbody tr th {\n",
              "        vertical-align: top;\n",
              "    }\n",
              "\n",
              "    .dataframe thead th {\n",
              "        text-align: right;\n",
              "    }\n",
              "</style>\n",
              "<table border=\"1\" class=\"dataframe\">\n",
              "  <thead>\n",
              "    <tr style=\"text-align: right;\">\n",
              "      <th></th>\n",
              "      <th>store</th>\n",
              "      <th>lat</th>\n",
              "      <th>lon</th>\n",
              "      <th>sales_average</th>\n",
              "    </tr>\n",
              "  </thead>\n",
              "  <tbody>\n",
              "    <tr>\n",
              "      <th>0</th>\n",
              "      <td>1</td>\n",
              "      <td>55.682829</td>\n",
              "      <td>37.416212</td>\n",
              "      <td>3949</td>\n",
              "    </tr>\n",
              "    <tr>\n",
              "      <th>941</th>\n",
              "      <td>2</td>\n",
              "      <td>55.686410</td>\n",
              "      <td>37.415503</td>\n",
              "      <td>4127</td>\n",
              "    </tr>\n",
              "    <tr>\n",
              "      <th>1882</th>\n",
              "      <td>3</td>\n",
              "      <td>55.885081</td>\n",
              "      <td>37.476452</td>\n",
              "      <td>5747</td>\n",
              "    </tr>\n",
              "    <tr>\n",
              "      <th>2823</th>\n",
              "      <td>4</td>\n",
              "      <td>55.711356</td>\n",
              "      <td>37.389027</td>\n",
              "      <td>8030</td>\n",
              "    </tr>\n",
              "    <tr>\n",
              "      <th>3764</th>\n",
              "      <td>5</td>\n",
              "      <td>55.902867</td>\n",
              "      <td>37.609132</td>\n",
              "      <td>3871</td>\n",
              "    </tr>\n",
              "    <tr>\n",
              "      <th>...</th>\n",
              "      <td>...</td>\n",
              "      <td>...</td>\n",
              "      <td>...</td>\n",
              "      <td>...</td>\n",
              "    </tr>\n",
              "    <tr>\n",
              "      <th>1007053</th>\n",
              "      <td>1106</td>\n",
              "      <td>55.894896</td>\n",
              "      <td>37.601787</td>\n",
              "      <td>4077</td>\n",
              "    </tr>\n",
              "    <tr>\n",
              "      <th>1007994</th>\n",
              "      <td>1107</td>\n",
              "      <td>55.713839</td>\n",
              "      <td>37.405167</td>\n",
              "      <td>5128</td>\n",
              "    </tr>\n",
              "    <tr>\n",
              "      <th>1008751</th>\n",
              "      <td>1108</td>\n",
              "      <td>55.755917</td>\n",
              "      <td>37.824296</td>\n",
              "      <td>4763</td>\n",
              "    </tr>\n",
              "    <tr>\n",
              "      <th>1009692</th>\n",
              "      <td>1109</td>\n",
              "      <td>55.891862</td>\n",
              "      <td>37.614217</td>\n",
              "      <td>4048</td>\n",
              "    </tr>\n",
              "    <tr>\n",
              "      <th>1010449</th>\n",
              "      <td>1110</td>\n",
              "      <td>55.707206</td>\n",
              "      <td>37.815763</td>\n",
              "      <td>3770</td>\n",
              "    </tr>\n",
              "  </tbody>\n",
              "</table>\n",
              "<p>1110 rows × 4 columns</p>\n",
              "</div>"
            ],
            "text/plain": [
              "         store        lat        lon  sales_average\n",
              "0            1  55.682829  37.416212           3949\n",
              "941          2  55.686410  37.415503           4127\n",
              "1882         3  55.885081  37.476452           5747\n",
              "2823         4  55.711356  37.389027           8030\n",
              "3764         5  55.902867  37.609132           3871\n",
              "...        ...        ...        ...            ...\n",
              "1007053   1106  55.894896  37.601787           4077\n",
              "1007994   1107  55.713839  37.405167           5128\n",
              "1008751   1108  55.755917  37.824296           4763\n",
              "1009692   1109  55.891862  37.614217           4048\n",
              "1010449   1110  55.707206  37.815763           3770\n",
              "\n",
              "[1110 rows x 4 columns]"
            ]
          },
          "metadata": {},
          "execution_count": 29
        }
      ]
    },
    {
      "cell_type": "code",
      "metadata": {
        "colab": {
          "base_uri": "https://localhost:8080/",
          "height": 206
        },
        "id": "0fw9tJ4Boi-J",
        "outputId": "8fec839d-2cc1-4bd0-b51e-138a5871fbeb"
      },
      "source": [
        "df_agg_test"
      ],
      "execution_count": null,
      "outputs": [
        {
          "output_type": "execute_result",
          "data": {
            "text/html": [
              "<div>\n",
              "<style scoped>\n",
              "    .dataframe tbody tr th:only-of-type {\n",
              "        vertical-align: middle;\n",
              "    }\n",
              "\n",
              "    .dataframe tbody tr th {\n",
              "        vertical-align: top;\n",
              "    }\n",
              "\n",
              "    .dataframe thead th {\n",
              "        text-align: right;\n",
              "    }\n",
              "</style>\n",
              "<table border=\"1\" class=\"dataframe\">\n",
              "  <thead>\n",
              "    <tr style=\"text-align: right;\">\n",
              "      <th></th>\n",
              "      <th>store</th>\n",
              "      <th>lat</th>\n",
              "      <th>lon</th>\n",
              "      <th>sales_average</th>\n",
              "    </tr>\n",
              "  </thead>\n",
              "  <tbody>\n",
              "    <tr>\n",
              "      <th>1011390</th>\n",
              "      <td>1111</td>\n",
              "      <td>55.878577</td>\n",
              "      <td>37.706292</td>\n",
              "      <td>4347</td>\n",
              "    </tr>\n",
              "    <tr>\n",
              "      <th>1012331</th>\n",
              "      <td>1112</td>\n",
              "      <td>55.791374</td>\n",
              "      <td>37.823187</td>\n",
              "      <td>8474</td>\n",
              "    </tr>\n",
              "    <tr>\n",
              "      <th>1013272</th>\n",
              "      <td>1113</td>\n",
              "      <td>55.756921</td>\n",
              "      <td>37.824353</td>\n",
              "      <td>5522</td>\n",
              "    </tr>\n",
              "    <tr>\n",
              "      <th>1014213</th>\n",
              "      <td>1114</td>\n",
              "      <td>55.798922</td>\n",
              "      <td>37.822139</td>\n",
              "      <td>17218</td>\n",
              "    </tr>\n",
              "    <tr>\n",
              "      <th>1015154</th>\n",
              "      <td>1115</td>\n",
              "      <td>55.582867</td>\n",
              "      <td>37.653329</td>\n",
              "      <td>5230</td>\n",
              "    </tr>\n",
              "  </tbody>\n",
              "</table>\n",
              "</div>"
            ],
            "text/plain": [
              "         store        lat        lon  sales_average\n",
              "1011390   1111  55.878577  37.706292           4347\n",
              "1012331   1112  55.791374  37.823187           8474\n",
              "1013272   1113  55.756921  37.824353           5522\n",
              "1014213   1114  55.798922  37.822139          17218\n",
              "1015154   1115  55.582867  37.653329           5230"
            ]
          },
          "metadata": {},
          "execution_count": 30
        }
      ]
    },
    {
      "cell_type": "code",
      "metadata": {
        "colab": {
          "base_uri": "https://localhost:8080/"
        },
        "collapsed": true,
        "id": "uK0Qx2woiYyI",
        "outputId": "1c6c7c52-614d-4e82-f8ad-82e79d65c9ee"
      },
      "source": [
        "this_map = folium.Map(prefer_canvas=True)\n",
        "\n",
        "def plotDot(point, color):\n",
        "    \n",
        "    folium.CircleMarker(\n",
        "        location=[point.lat, point.lon],\n",
        "        radius=2,\n",
        "        weight=5,\n",
        "        color=color,\n",
        "        popup=point.sales_average\n",
        "    ).add_to(this_map)\n",
        "    \n",
        "df_agg_train.apply(plotDot, axis=1, color='#3388FF')\n",
        "df_agg_test.apply(plotDot, axis=1, color='#FF5A33')    \n",
        "\n",
        "this_map.fit_bounds(this_map.get_bounds())\n",
        "\n",
        "this_map"
      ],
      "execution_count": null,
      "outputs": [
        {
          "output_type": "error",
          "ename": "AttributeError",
          "evalue": "ignored",
          "traceback": [
            "\u001b[0;31m---------------------------------------------------------------------------\u001b[0m",
            "\u001b[0;31mAttributeError\u001b[0m                            Traceback (most recent call last)",
            "\u001b[0;32m<ipython-input-31-200276139731>\u001b[0m in \u001b[0;36m<module>\u001b[0;34m()\u001b[0m\n\u001b[1;32m     11\u001b[0m     ).add_to(this_map)\n\u001b[1;32m     12\u001b[0m \u001b[0;34m\u001b[0m\u001b[0m\n\u001b[0;32m---> 13\u001b[0;31m \u001b[0mdf_agg_train\u001b[0m\u001b[0;34m.\u001b[0m\u001b[0mapply\u001b[0m\u001b[0;34m(\u001b[0m\u001b[0mplotDot\u001b[0m\u001b[0;34m,\u001b[0m \u001b[0maxis\u001b[0m\u001b[0;34m=\u001b[0m\u001b[0;36m1\u001b[0m\u001b[0;34m,\u001b[0m \u001b[0mcolor\u001b[0m\u001b[0;34m=\u001b[0m\u001b[0;34m'#3388FF'\u001b[0m\u001b[0;34m)\u001b[0m\u001b[0;34m\u001b[0m\u001b[0;34m\u001b[0m\u001b[0m\n\u001b[0m\u001b[1;32m     14\u001b[0m \u001b[0mdf_agg_test\u001b[0m\u001b[0;34m.\u001b[0m\u001b[0mapply\u001b[0m\u001b[0;34m(\u001b[0m\u001b[0mplotDot\u001b[0m\u001b[0;34m,\u001b[0m \u001b[0maxis\u001b[0m\u001b[0;34m=\u001b[0m\u001b[0;36m1\u001b[0m\u001b[0;34m,\u001b[0m \u001b[0mcolor\u001b[0m\u001b[0;34m=\u001b[0m\u001b[0;34m'#FF5A33'\u001b[0m\u001b[0;34m)\u001b[0m\u001b[0;34m\u001b[0m\u001b[0;34m\u001b[0m\u001b[0m\n\u001b[1;32m     15\u001b[0m \u001b[0;34m\u001b[0m\u001b[0m\n",
            "\u001b[0;32m/usr/local/lib/python3.7/dist-packages/pandas/core/frame.py\u001b[0m in \u001b[0;36mapply\u001b[0;34m(self, func, axis, raw, result_type, args, **kwds)\u001b[0m\n\u001b[1;32m   7550\u001b[0m             \u001b[0mkwds\u001b[0m\u001b[0;34m=\u001b[0m\u001b[0mkwds\u001b[0m\u001b[0;34m,\u001b[0m\u001b[0;34m\u001b[0m\u001b[0;34m\u001b[0m\u001b[0m\n\u001b[1;32m   7551\u001b[0m         )\n\u001b[0;32m-> 7552\u001b[0;31m         \u001b[0;32mreturn\u001b[0m \u001b[0mop\u001b[0m\u001b[0;34m.\u001b[0m\u001b[0mget_result\u001b[0m\u001b[0;34m(\u001b[0m\u001b[0;34m)\u001b[0m\u001b[0;34m\u001b[0m\u001b[0;34m\u001b[0m\u001b[0m\n\u001b[0m\u001b[1;32m   7553\u001b[0m \u001b[0;34m\u001b[0m\u001b[0m\n\u001b[1;32m   7554\u001b[0m     \u001b[0;32mdef\u001b[0m \u001b[0mapplymap\u001b[0m\u001b[0;34m(\u001b[0m\u001b[0mself\u001b[0m\u001b[0;34m,\u001b[0m \u001b[0mfunc\u001b[0m\u001b[0;34m)\u001b[0m \u001b[0;34m->\u001b[0m \u001b[0;34m\"DataFrame\"\u001b[0m\u001b[0;34m:\u001b[0m\u001b[0;34m\u001b[0m\u001b[0;34m\u001b[0m\u001b[0m\n",
            "\u001b[0;32m/usr/local/lib/python3.7/dist-packages/pandas/core/apply.py\u001b[0m in \u001b[0;36mget_result\u001b[0;34m(self)\u001b[0m\n\u001b[1;32m    183\u001b[0m             \u001b[0;32mreturn\u001b[0m \u001b[0mself\u001b[0m\u001b[0;34m.\u001b[0m\u001b[0mapply_raw\u001b[0m\u001b[0;34m(\u001b[0m\u001b[0;34m)\u001b[0m\u001b[0;34m\u001b[0m\u001b[0;34m\u001b[0m\u001b[0m\n\u001b[1;32m    184\u001b[0m \u001b[0;34m\u001b[0m\u001b[0m\n\u001b[0;32m--> 185\u001b[0;31m         \u001b[0;32mreturn\u001b[0m \u001b[0mself\u001b[0m\u001b[0;34m.\u001b[0m\u001b[0mapply_standard\u001b[0m\u001b[0;34m(\u001b[0m\u001b[0;34m)\u001b[0m\u001b[0;34m\u001b[0m\u001b[0;34m\u001b[0m\u001b[0m\n\u001b[0m\u001b[1;32m    186\u001b[0m \u001b[0;34m\u001b[0m\u001b[0m\n\u001b[1;32m    187\u001b[0m     \u001b[0;32mdef\u001b[0m \u001b[0mapply_empty_result\u001b[0m\u001b[0;34m(\u001b[0m\u001b[0mself\u001b[0m\u001b[0;34m)\u001b[0m\u001b[0;34m:\u001b[0m\u001b[0;34m\u001b[0m\u001b[0;34m\u001b[0m\u001b[0m\n",
            "\u001b[0;32m/usr/local/lib/python3.7/dist-packages/pandas/core/apply.py\u001b[0m in \u001b[0;36mapply_standard\u001b[0;34m(self)\u001b[0m\n\u001b[1;32m    274\u001b[0m \u001b[0;34m\u001b[0m\u001b[0m\n\u001b[1;32m    275\u001b[0m     \u001b[0;32mdef\u001b[0m \u001b[0mapply_standard\u001b[0m\u001b[0;34m(\u001b[0m\u001b[0mself\u001b[0m\u001b[0;34m)\u001b[0m\u001b[0;34m:\u001b[0m\u001b[0;34m\u001b[0m\u001b[0;34m\u001b[0m\u001b[0m\n\u001b[0;32m--> 276\u001b[0;31m         \u001b[0mresults\u001b[0m\u001b[0;34m,\u001b[0m \u001b[0mres_index\u001b[0m \u001b[0;34m=\u001b[0m \u001b[0mself\u001b[0m\u001b[0;34m.\u001b[0m\u001b[0mapply_series_generator\u001b[0m\u001b[0;34m(\u001b[0m\u001b[0;34m)\u001b[0m\u001b[0;34m\u001b[0m\u001b[0;34m\u001b[0m\u001b[0m\n\u001b[0m\u001b[1;32m    277\u001b[0m \u001b[0;34m\u001b[0m\u001b[0m\n\u001b[1;32m    278\u001b[0m         \u001b[0;31m# wrap results\u001b[0m\u001b[0;34m\u001b[0m\u001b[0;34m\u001b[0m\u001b[0;34m\u001b[0m\u001b[0m\n",
            "\u001b[0;32m/usr/local/lib/python3.7/dist-packages/pandas/core/apply.py\u001b[0m in \u001b[0;36mapply_series_generator\u001b[0;34m(self)\u001b[0m\n\u001b[1;32m    303\u001b[0m                 \u001b[0;32mfor\u001b[0m \u001b[0mi\u001b[0m\u001b[0;34m,\u001b[0m \u001b[0mv\u001b[0m \u001b[0;32min\u001b[0m \u001b[0menumerate\u001b[0m\u001b[0;34m(\u001b[0m\u001b[0mseries_gen\u001b[0m\u001b[0;34m)\u001b[0m\u001b[0;34m:\u001b[0m\u001b[0;34m\u001b[0m\u001b[0;34m\u001b[0m\u001b[0m\n\u001b[1;32m    304\u001b[0m                     \u001b[0;31m# ignore SettingWithCopy here in case the user mutates\u001b[0m\u001b[0;34m\u001b[0m\u001b[0;34m\u001b[0m\u001b[0;34m\u001b[0m\u001b[0m\n\u001b[0;32m--> 305\u001b[0;31m                     \u001b[0mresults\u001b[0m\u001b[0;34m[\u001b[0m\u001b[0mi\u001b[0m\u001b[0;34m]\u001b[0m \u001b[0;34m=\u001b[0m \u001b[0mself\u001b[0m\u001b[0;34m.\u001b[0m\u001b[0mf\u001b[0m\u001b[0;34m(\u001b[0m\u001b[0mv\u001b[0m\u001b[0;34m)\u001b[0m\u001b[0;34m\u001b[0m\u001b[0;34m\u001b[0m\u001b[0m\n\u001b[0m\u001b[1;32m    306\u001b[0m                     \u001b[0;32mif\u001b[0m \u001b[0misinstance\u001b[0m\u001b[0;34m(\u001b[0m\u001b[0mresults\u001b[0m\u001b[0;34m[\u001b[0m\u001b[0mi\u001b[0m\u001b[0;34m]\u001b[0m\u001b[0;34m,\u001b[0m \u001b[0mABCSeries\u001b[0m\u001b[0;34m)\u001b[0m\u001b[0;34m:\u001b[0m\u001b[0;34m\u001b[0m\u001b[0;34m\u001b[0m\u001b[0m\n\u001b[1;32m    307\u001b[0m                         \u001b[0;31m# If we have a view on v, we need to make a copy because\u001b[0m\u001b[0;34m\u001b[0m\u001b[0;34m\u001b[0m\u001b[0;34m\u001b[0m\u001b[0m\n",
            "\u001b[0;32m/usr/local/lib/python3.7/dist-packages/pandas/core/apply.py\u001b[0m in \u001b[0;36mf\u001b[0;34m(x)\u001b[0m\n\u001b[1;32m    112\u001b[0m \u001b[0;34m\u001b[0m\u001b[0m\n\u001b[1;32m    113\u001b[0m             \u001b[0;32mdef\u001b[0m \u001b[0mf\u001b[0m\u001b[0;34m(\u001b[0m\u001b[0mx\u001b[0m\u001b[0;34m)\u001b[0m\u001b[0;34m:\u001b[0m\u001b[0;34m\u001b[0m\u001b[0;34m\u001b[0m\u001b[0m\n\u001b[0;32m--> 114\u001b[0;31m                 \u001b[0;32mreturn\u001b[0m \u001b[0mfunc\u001b[0m\u001b[0;34m(\u001b[0m\u001b[0mx\u001b[0m\u001b[0;34m,\u001b[0m \u001b[0;34m*\u001b[0m\u001b[0margs\u001b[0m\u001b[0;34m,\u001b[0m \u001b[0;34m**\u001b[0m\u001b[0mkwds\u001b[0m\u001b[0;34m)\u001b[0m\u001b[0;34m\u001b[0m\u001b[0;34m\u001b[0m\u001b[0m\n\u001b[0m\u001b[1;32m    115\u001b[0m \u001b[0;34m\u001b[0m\u001b[0m\n\u001b[1;32m    116\u001b[0m         \u001b[0;32melse\u001b[0m\u001b[0;34m:\u001b[0m\u001b[0;34m\u001b[0m\u001b[0;34m\u001b[0m\u001b[0m\n",
            "\u001b[0;32m<ipython-input-31-200276139731>\u001b[0m in \u001b[0;36mplotDot\u001b[0;34m(point, color)\u001b[0m\n\u001b[1;32m      8\u001b[0m         \u001b[0mweight\u001b[0m\u001b[0;34m=\u001b[0m\u001b[0;36m5\u001b[0m\u001b[0;34m,\u001b[0m\u001b[0;34m\u001b[0m\u001b[0;34m\u001b[0m\u001b[0m\n\u001b[1;32m      9\u001b[0m         \u001b[0mcolor\u001b[0m\u001b[0;34m=\u001b[0m\u001b[0mcolor\u001b[0m\u001b[0;34m,\u001b[0m\u001b[0;34m\u001b[0m\u001b[0;34m\u001b[0m\u001b[0m\n\u001b[0;32m---> 10\u001b[0;31m         \u001b[0mpopup\u001b[0m\u001b[0;34m=\u001b[0m\u001b[0mpoint\u001b[0m\u001b[0;34m.\u001b[0m\u001b[0msales_average\u001b[0m\u001b[0;34m\u001b[0m\u001b[0;34m\u001b[0m\u001b[0m\n\u001b[0m\u001b[1;32m     11\u001b[0m     ).add_to(this_map)\n\u001b[1;32m     12\u001b[0m \u001b[0;34m\u001b[0m\u001b[0m\n",
            "\u001b[0;32m/usr/local/lib/python3.7/dist-packages/folium/vector_layers.py\u001b[0m in \u001b[0;36m__init__\u001b[0;34m(self, location, radius, popup, tooltip, **kwargs)\u001b[0m\n\u001b[1;32m    309\u001b[0m     \u001b[0;32mdef\u001b[0m \u001b[0m__init__\u001b[0m\u001b[0;34m(\u001b[0m\u001b[0mself\u001b[0m\u001b[0;34m,\u001b[0m \u001b[0mlocation\u001b[0m\u001b[0;34m,\u001b[0m \u001b[0mradius\u001b[0m\u001b[0;34m=\u001b[0m\u001b[0;36m10\u001b[0m\u001b[0;34m,\u001b[0m \u001b[0mpopup\u001b[0m\u001b[0;34m=\u001b[0m\u001b[0;32mNone\u001b[0m\u001b[0;34m,\u001b[0m \u001b[0mtooltip\u001b[0m\u001b[0;34m=\u001b[0m\u001b[0;32mNone\u001b[0m\u001b[0;34m,\u001b[0m \u001b[0;34m**\u001b[0m\u001b[0mkwargs\u001b[0m\u001b[0;34m)\u001b[0m\u001b[0;34m:\u001b[0m\u001b[0;34m\u001b[0m\u001b[0;34m\u001b[0m\u001b[0m\n\u001b[1;32m    310\u001b[0m         super(CircleMarker, self).__init__(location=location, popup=popup,\n\u001b[0;32m--> 311\u001b[0;31m                                            tooltip=tooltip)\n\u001b[0m\u001b[1;32m    312\u001b[0m         \u001b[0mself\u001b[0m\u001b[0;34m.\u001b[0m\u001b[0m_name\u001b[0m \u001b[0;34m=\u001b[0m \u001b[0;34m'CircleMarker'\u001b[0m\u001b[0;34m\u001b[0m\u001b[0;34m\u001b[0m\u001b[0m\n\u001b[1;32m    313\u001b[0m         \u001b[0mself\u001b[0m\u001b[0;34m.\u001b[0m\u001b[0moptions\u001b[0m \u001b[0;34m=\u001b[0m \u001b[0m_parse_options\u001b[0m\u001b[0;34m(\u001b[0m\u001b[0mline\u001b[0m\u001b[0;34m=\u001b[0m\u001b[0;32mFalse\u001b[0m\u001b[0;34m,\u001b[0m \u001b[0mradius\u001b[0m\u001b[0;34m=\u001b[0m\u001b[0mradius\u001b[0m\u001b[0;34m,\u001b[0m \u001b[0;34m**\u001b[0m\u001b[0mkwargs\u001b[0m\u001b[0;34m)\u001b[0m\u001b[0;34m\u001b[0m\u001b[0;34m\u001b[0m\u001b[0m\n",
            "\u001b[0;32m/usr/local/lib/python3.7/dist-packages/folium/map.py\u001b[0m in \u001b[0;36m__init__\u001b[0;34m(self, location, popup, tooltip, icon, draggable)\u001b[0m\n\u001b[1;32m    263\u001b[0m             \u001b[0mself\u001b[0m\u001b[0;34m.\u001b[0m\u001b[0madd_child\u001b[0m\u001b[0;34m(\u001b[0m\u001b[0mPopup\u001b[0m\u001b[0;34m(\u001b[0m\u001b[0mpopup\u001b[0m\u001b[0;34m)\u001b[0m\u001b[0;34m)\u001b[0m\u001b[0;34m\u001b[0m\u001b[0;34m\u001b[0m\u001b[0m\n\u001b[1;32m    264\u001b[0m         \u001b[0;32melif\u001b[0m \u001b[0mpopup\u001b[0m \u001b[0;32mis\u001b[0m \u001b[0;32mnot\u001b[0m \u001b[0;32mNone\u001b[0m\u001b[0;34m:\u001b[0m\u001b[0;34m\u001b[0m\u001b[0;34m\u001b[0m\u001b[0m\n\u001b[0;32m--> 265\u001b[0;31m             \u001b[0mself\u001b[0m\u001b[0;34m.\u001b[0m\u001b[0madd_child\u001b[0m\u001b[0;34m(\u001b[0m\u001b[0mpopup\u001b[0m\u001b[0;34m)\u001b[0m\u001b[0;34m\u001b[0m\u001b[0;34m\u001b[0m\u001b[0m\n\u001b[0m\u001b[1;32m    266\u001b[0m         \u001b[0;32mif\u001b[0m \u001b[0misinstance\u001b[0m\u001b[0;34m(\u001b[0m\u001b[0mtooltip\u001b[0m\u001b[0;34m,\u001b[0m \u001b[0mTooltip\u001b[0m\u001b[0;34m)\u001b[0m\u001b[0;34m:\u001b[0m\u001b[0;34m\u001b[0m\u001b[0;34m\u001b[0m\u001b[0m\n\u001b[1;32m    267\u001b[0m             \u001b[0mself\u001b[0m\u001b[0;34m.\u001b[0m\u001b[0madd_child\u001b[0m\u001b[0;34m(\u001b[0m\u001b[0mtooltip\u001b[0m\u001b[0;34m)\u001b[0m\u001b[0;34m\u001b[0m\u001b[0;34m\u001b[0m\u001b[0m\n",
            "\u001b[0;32m/usr/local/lib/python3.7/dist-packages/branca/element.py\u001b[0m in \u001b[0;36madd_child\u001b[0;34m(self, child, name, index)\u001b[0m\n\u001b[1;32m    104\u001b[0m         \u001b[0;34m\"\"\"Add a child.\"\"\"\u001b[0m\u001b[0;34m\u001b[0m\u001b[0;34m\u001b[0m\u001b[0m\n\u001b[1;32m    105\u001b[0m         \u001b[0;32mif\u001b[0m \u001b[0mname\u001b[0m \u001b[0;32mis\u001b[0m \u001b[0;32mNone\u001b[0m\u001b[0;34m:\u001b[0m\u001b[0;34m\u001b[0m\u001b[0;34m\u001b[0m\u001b[0m\n\u001b[0;32m--> 106\u001b[0;31m             \u001b[0mname\u001b[0m \u001b[0;34m=\u001b[0m \u001b[0mchild\u001b[0m\u001b[0;34m.\u001b[0m\u001b[0mget_name\u001b[0m\u001b[0;34m(\u001b[0m\u001b[0;34m)\u001b[0m\u001b[0;34m\u001b[0m\u001b[0;34m\u001b[0m\u001b[0m\n\u001b[0m\u001b[1;32m    107\u001b[0m         \u001b[0;32mif\u001b[0m \u001b[0mindex\u001b[0m \u001b[0;32mis\u001b[0m \u001b[0;32mNone\u001b[0m\u001b[0;34m:\u001b[0m\u001b[0;34m\u001b[0m\u001b[0;34m\u001b[0m\u001b[0m\n\u001b[1;32m    108\u001b[0m             \u001b[0mself\u001b[0m\u001b[0;34m.\u001b[0m\u001b[0m_children\u001b[0m\u001b[0;34m[\u001b[0m\u001b[0mname\u001b[0m\u001b[0;34m]\u001b[0m \u001b[0;34m=\u001b[0m \u001b[0mchild\u001b[0m\u001b[0;34m\u001b[0m\u001b[0;34m\u001b[0m\u001b[0m\n",
            "\u001b[0;31mAttributeError\u001b[0m: 'numpy.float64' object has no attribute 'get_name'"
          ]
        }
      ]
    }
  ]
}